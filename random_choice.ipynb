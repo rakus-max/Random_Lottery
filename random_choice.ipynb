{
 "cells": [
  {
   "cell_type": "code",
   "execution_count": 27,
   "id": "54f3078b",
   "metadata": {},
   "outputs": [],
   "source": [
    "import pandas as pd\n",
    "import io\n",
    "\n",
    "df = pd.read_csv(\"./data/sample.csv\")"
   ]
  },
  {
   "cell_type": "code",
   "execution_count": 28,
   "id": "0708a8c1",
   "metadata": {},
   "outputs": [],
   "source": [
    "result = df.sample(n=1)"
   ]
  },
  {
   "cell_type": "code",
   "execution_count": 29,
   "id": "8975a094",
   "metadata": {},
   "outputs": [
    {
     "data": {
      "text/html": [
       "<div>\n",
       "<style scoped>\n",
       "    .dataframe tbody tr th:only-of-type {\n",
       "        vertical-align: middle;\n",
       "    }\n",
       "\n",
       "    .dataframe tbody tr th {\n",
       "        vertical-align: top;\n",
       "    }\n",
       "\n",
       "    .dataframe thead th {\n",
       "        text-align: right;\n",
       "    }\n",
       "</style>\n",
       "<table border=\"1\" class=\"dataframe\">\n",
       "  <thead>\n",
       "    <tr style=\"text-align: right;\">\n",
       "      <th></th>\n",
       "      <th>番号</th>\n",
       "      <th>名前</th>\n",
       "      <th>住所</th>\n",
       "      <th>番組への感想</th>\n",
       "    </tr>\n",
       "  </thead>\n",
       "  <tbody>\n",
       "    <tr>\n",
       "      <th>2</th>\n",
       "      <td>3</td>\n",
       "      <td>坂東三郎</td>\n",
       "      <td>神奈川県横浜市〇〇区</td>\n",
       "      <td>NaN</td>\n",
       "    </tr>\n",
       "  </tbody>\n",
       "</table>\n",
       "</div>"
      ],
      "text/plain": [
       "   番号    名前          住所 番組への感想\n",
       "2   3  坂東三郎  神奈川県横浜市〇〇区    NaN"
      ]
     },
     "execution_count": 29,
     "metadata": {},
     "output_type": "execute_result"
    }
   ],
   "source": [
    "result"
   ]
  },
  {
   "cell_type": "code",
   "execution_count": 30,
   "id": "3e727bc9",
   "metadata": {},
   "outputs": [],
   "source": [
    "def random_choice(data):\n",
    "    df = pd.read_csv(data)\n",
    "    result = df.sample(n=1)\n",
    "    buffer = io.StringIO()\n",
    "    result.to_csv(buffer, index=False)\n",
    "    return buffer"
   ]
  },
  {
   "cell_type": "code",
   "execution_count": 32,
   "id": "8402bd47",
   "metadata": {},
   "outputs": [],
   "source": [
    "res = random_choice(\"./data/sample.csv\")"
   ]
  },
  {
   "cell_type": "code",
   "execution_count": 33,
   "id": "ac030e92",
   "metadata": {},
   "outputs": [
    {
     "data": {
      "text/plain": [
       "<_io.StringIO at 0x10f50acd0>"
      ]
     },
     "execution_count": 33,
     "metadata": {},
     "output_type": "execute_result"
    }
   ],
   "source": [
    "res"
   ]
  },
  {
   "cell_type": "code",
   "execution_count": null,
   "id": "bb33dd55",
   "metadata": {},
   "outputs": [],
   "source": []
  }
 ],
 "metadata": {
  "kernelspec": {
   "display_name": "Python 3",
   "language": "python",
   "name": "python3"
  },
  "language_info": {
   "codemirror_mode": {
    "name": "ipython",
    "version": 3
   },
   "file_extension": ".py",
   "mimetype": "text/x-python",
   "name": "python",
   "nbconvert_exporter": "python",
   "pygments_lexer": "ipython3",
   "version": "3.7.8"
  }
 },
 "nbformat": 4,
 "nbformat_minor": 5
}
